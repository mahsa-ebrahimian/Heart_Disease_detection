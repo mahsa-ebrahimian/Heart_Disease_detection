{
 "cells": [
  {
   "cell_type": "code",
   "execution_count": 8,
   "metadata": {},
   "outputs": [
    {
     "name": "stderr",
     "output_type": "stream",
     "text": [
      "C:\\Users\\Mahsa\\anaconda3\\envs\\tf\\lib\\site-packages\\ipykernel\\ipkernel.py:287: DeprecationWarning: `should_run_async` will not call `transform_cell` automatically in the future. Please pass the result to `transformed_cell` argument and any exception that happen during thetransform in `preprocessing_exc_tuple` in IPython 7.17 and above.\n",
      "  and should_run_async(code)\n"
     ]
    }
   ],
   "source": [
    "# check scikit-learn version\n",
    "import sklearn\n",
    "# import \n",
    "import pandas as pd\n",
    "from sklearn.datasets import make_classification\n",
    "from sklearn.ensemble import RandomForestClassifier\n",
    "from matplotlib import pyplot\n",
    "from sklearn.linear_model import LinearRegression\n",
    "from sklearn.tree import DecisionTreeClassifier\n",
    "from sklearn.ensemble import RandomForestClassifier\n",
    "from sklearn.neighbors import KNeighborsClassifier\n",
    "from sklearn.svm import SVC\n",
    "from sklearn.naive_bayes import GaussianNB\n",
    "from sklearn.neural_network import MLPClassifier\n",
    "from numpy import mean, std\n",
    "from sklearn.datasets import make_classification\n",
    "from sklearn.model_selection import cross_val_score,RepeatedStratifiedKFold,cross_validate\n",
    "from sklearn.neighbors import KNeighborsClassifier\n",
    "from sklearn.ensemble import VotingClassifier\n",
    "from matplotlib import pyplot\n",
    "from sklearn.model_selection import train_test_split\n",
    "from sklearn.metrics import precision_score,recall_score,f1_score\n",
    "from sklearn.metrics import recall_score,f1_score,roc_auc_score,roc_curve,auc\n",
    "from sklearn import preprocessing\n",
    "from sklearn.preprocessing import StandardScaler\n"
   ]
  },
  {
   "cell_type": "code",
   "execution_count": 9,
   "metadata": {},
   "outputs": [
    {
     "name": "stderr",
     "output_type": "stream",
     "text": [
      "C:\\Users\\Mahsa\\anaconda3\\envs\\tf\\lib\\site-packages\\ipykernel\\ipkernel.py:287: DeprecationWarning: `should_run_async` will not call `transform_cell` automatically in the future. Please pass the result to `transformed_cell` argument and any exception that happen during thetransform in `preprocessing_exc_tuple` in IPython 7.17 and above.\n",
      "  and should_run_async(code)\n"
     ]
    }
   ],
   "source": [
    "import warnings\n",
    "warnings.filterwarnings('always')  # \"error\", \"ignore\", \"always\", \"default\", \"module\" or \"once\""
   ]
  },
  {
   "cell_type": "markdown",
   "metadata": {},
   "source": [
    "### cleveland Dataset"
   ]
  },
  {
   "cell_type": "code",
   "execution_count": 10,
   "metadata": {},
   "outputs": [
    {
     "name": "stderr",
     "output_type": "stream",
     "text": [
      "C:\\Users\\Mahsa\\anaconda3\\envs\\tf\\lib\\site-packages\\ipykernel\\ipkernel.py:287: DeprecationWarning: `should_run_async` will not call `transform_cell` automatically in the future. Please pass the result to `transformed_cell` argument and any exception that happen during thetransform in `preprocessing_exc_tuple` in IPython 7.17 and above.\n",
      "  and should_run_async(code)\n"
     ]
    }
   ],
   "source": [
    "df = pd.read_csv('cleveland_clean.csv')\n",
    "\n",
    "\n",
    "\n",
    "X = df.drop(['Class'], axis=1)\n",
    "y = df['Class'] "
   ]
  },
  {
   "cell_type": "code",
   "execution_count": 11,
   "metadata": {},
   "outputs": [
    {
     "name": "stderr",
     "output_type": "stream",
     "text": [
      "C:\\Users\\Mahsa\\anaconda3\\envs\\tf\\lib\\site-packages\\ipykernel\\ipkernel.py:287: DeprecationWarning: `should_run_async` will not call `transform_cell` automatically in the future. Please pass the result to `transformed_cell` argument and any exception that happen during thetransform in `preprocessing_exc_tuple` in IPython 7.17 and above.\n",
      "  and should_run_async(code)\n"
     ]
    },
    {
     "name": "stdout",
     "output_type": "stream",
     "text": [
      ">RF accuracy:0.792 precision: 0.791 recall: 0.788\n",
      ">MLP accuracy:0.825 precision: 0.828 recall: 0.822\n",
      ">DT accuracy:0.759 precision: 0.759 recall: 0.756\n",
      ">KNN accuracy:0.759 precision: 0.779 recall: 0.749\n",
      ">SVM accuracy:0.805 precision: 0.810 recall: 0.801\n",
      ">NB accuracy:0.799 precision: 0.801 recall: 0.796\n",
      ">hard_voting accuracy:0.812 precision: 0.824 recall: 0.805\n",
      ">soft_voting accuracy:0.825 precision: 0.828 recall: 0.821\n",
      "aoc for soft voting model is: 0.900\n"
     ]
    }
   ],
   "source": [
    "# get the dataset\n",
    "def get_dataset():\n",
    "    X=x\n",
    "    y=y \n",
    "    return X, y\n",
    "\n",
    "X_train, X_test, y_train, y_test = train_test_split(X,y, test_size=0.3)\n",
    " \n",
    "# get a voting ensemble of models - hard\n",
    "def get_voting1():\n",
    "    # define the base models\n",
    "    models = list()\n",
    "\n",
    "    models.append(('RF',RandomForestClassifier(n_estimators=100))) \n",
    "    models.append(('MLP',MLPClassifier(solver='adam', learning_rate_init = 0.0005, learning_rate = 'adaptive', activation=\"relu\", max_iter=3000, random_state=10))) \n",
    "#     models.append(('DT',DecisionTreeClassifier())) \n",
    "    models.append(('KNN',KNeighborsClassifier(n_neighbors=100))) \n",
    "    models.append(('SVM',SVC(random_state=1))) \n",
    "#     models.append(('NB',GaussianNB())) \n",
    "    # define the voting ensemble\n",
    "    ensemble = VotingClassifier(estimators=models, voting='hard')\n",
    "\n",
    "    return ensemble\n",
    "\n",
    "def get_voting2():\n",
    "    # define the base models - soft \n",
    "    models = list()\n",
    "\n",
    "    models.append(('RF',RandomForestClassifier(n_estimators=100))) \n",
    "    models.append(('MLP',MLPClassifier(solver='adam', learning_rate_init = 0.0005, learning_rate = 'adaptive', activation=\"relu\", max_iter=3000, random_state=10))) \n",
    "#     models.append(('DT',DecisionTreeClassifier())) \n",
    "    models.append(('KNN',KNeighborsClassifier(n_neighbors=100))) \n",
    "    models.append(('SVM',SVC(random_state=1,probability=True))) \n",
    "#     models.append(('NB',GaussianNB())) \n",
    "    # define the voting ensemble\n",
    "    ensemble = VotingClassifier(estimators=models, voting='soft')\n",
    "\n",
    "    return ensemble\n",
    " \n",
    "# get a list of models to evaluate\n",
    "def get_models():\n",
    "    models = dict()\n",
    "\n",
    "    models['RF']=RandomForestClassifier(n_estimators=100)\n",
    "    models['MLP']=MLPClassifier(solver='adam', learning_rate_init = 0.0005, learning_rate = 'adaptive', activation=\"relu\", max_iter=3000, random_state=10) \n",
    "    models['DT']=DecisionTreeClassifier()\n",
    "    models['KNN']=KNeighborsClassifier(n_neighbors=100)\n",
    "    models['SVM']=SVC(random_state=1)\n",
    "    models['NB']=GaussianNB()\n",
    "    models['hard_voting'] = get_voting1()\n",
    "    models['soft_voting'] = get_voting2()\n",
    "    return models\n",
    " \n",
    "# evaluate a given model using cross-validation\n",
    "def evaluate_model(model, X, y):\n",
    "    scoring = ['precision_macro', 'recall_macro','accuracy']#'accuracy',\n",
    "    cv = RepeatedStratifiedKFold(n_splits=3, n_repeats=3, random_state=1)\n",
    "    scores = cross_validate(model, X, y, scoring=scoring)#, cv=cv, n_jobs=-1, error_score='raise')\n",
    "    return scores\n",
    " \n",
    "\n",
    "models = get_models()\n",
    "# evaluate the models and store results\n",
    "results, names = list(), list()\n",
    "for name, model in models.items():\n",
    "    model.fit(X_train, y_train)\n",
    "    y_pred = model.predict(X_test)\n",
    "    \n",
    "    scores = evaluate_model(model, X, y)\n",
    "    results.append(scores)\n",
    "    names.append(name)\n",
    "    print ('>%s accuracy:%0.3f precision: %.3f recall: %.3f' % (name,mean(scores['test_accuracy']), mean(scores['test_precision_macro']),mean(scores['test_recall_macro'])))\n",
    "    \n",
    "    if name in ('soft_voting'):\n",
    "        probs = model.predict_proba(X_test)\n",
    "        malignant_probs = probs[:,1]\n",
    "        fpr, tpr, thresholds = roc_curve(y_test, malignant_probs)\n",
    "        roc_auc = auc(fpr, tpr)\n",
    "        print('aoc for soft voting model is: %0.3f' % (roc_auc))\n"
   ]
  },
  {
   "cell_type": "code",
   "execution_count": 12,
   "metadata": {},
   "outputs": [
    {
     "name": "stderr",
     "output_type": "stream",
     "text": [
      "C:\\Users\\Mahsa\\anaconda3\\envs\\tf\\lib\\site-packages\\ipykernel\\ipkernel.py:287: DeprecationWarning: `should_run_async` will not call `transform_cell` automatically in the future. Please pass the result to `transformed_cell` argument and any exception that happen during thetransform in `preprocessing_exc_tuple` in IPython 7.17 and above.\n",
      "  and should_run_async(code)\n"
     ]
    },
    {
     "data": {
      "image/png": "[encoded data removed]",
      "text/plain": [
       "<Figure size 432x288 with 1 Axes>"
      ]
     },
     "metadata": {
      "needs_background": "light"
     },
     "output_type": "display_data"
    }
   ],
   "source": [
    "pyplot.title('Soft Ensemble Receiver Operating Characteristic')\n",
    "pyplot.plot(fpr, tpr, 'y', label = 'AUC = %0.2f' % roc_auc)\n",
    "pyplot.legend(loc = 'lower right')\n",
    "pyplot.plot([0, 1], [0, 1],'r--')\n",
    "pyplot.xlim([0, 1])\n",
    "pyplot.ylim([0, 1])\n",
    "pyplot.ylabel('True Positive Rate')\n",
    "pyplot.xlabel('False Positive Rate')\n",
    "pyplot.show()"
   ]
  },
  {
   "cell_type": "markdown",
   "metadata": {},
   "source": [
    "# Framingham Dataset"
   ]
  },
  {
   "cell_type": "code",
   "execution_count": 13,
   "metadata": {},
   "outputs": [
    {
     "name": "stderr",
     "output_type": "stream",
     "text": [
      "C:\\Users\\Mahsa\\anaconda3\\envs\\tf\\lib\\site-packages\\ipykernel\\ipkernel.py:287: DeprecationWarning: `should_run_async` will not call `transform_cell` automatically in the future. Please pass the result to `transformed_cell` argument and any exception that happen during thetransform in `preprocessing_exc_tuple` in IPython 7.17 and above.\n",
      "  and should_run_async(code)\n"
     ]
    }
   ],
   "source": [
    "# read the data set file\n",
    "df2 = pd.read_csv('framingham_clean.csv')\n",
    "\n",
    "\n",
    "X = df2.drop(['TenYearCHD'], axis=1) # features\n",
    "y = df2['TenYearCHD']      # label"
   ]
  },
  {
   "cell_type": "code",
   "execution_count": 14,
   "metadata": {},
   "outputs": [
    {
     "name": "stderr",
     "output_type": "stream",
     "text": [
      "C:\\Users\\Mahsa\\anaconda3\\envs\\tf\\lib\\site-packages\\ipykernel\\ipkernel.py:287: DeprecationWarning: `should_run_async` will not call `transform_cell` automatically in the future. Please pass the result to `transformed_cell` argument and any exception that happen during thetransform in `preprocessing_exc_tuple` in IPython 7.17 and above.\n",
      "  and should_run_async(code)\n"
     ]
    },
    {
     "name": "stdout",
     "output_type": "stream",
     "text": [
      ">RF accuracy:0.843 precision: 0.613 recall: 0.518\n",
      ">MLP accuracy:0.850 precision: 0.755 recall: 0.520\n",
      ">DT accuracy:0.765 precision: 0.561 recall: 0.568\n"
     ]
    },
    {
     "name": "stderr",
     "output_type": "stream",
     "text": [
      "C:\\Users\\Mahsa\\anaconda3\\envs\\tf\\lib\\site-packages\\sklearn\\metrics\\_classification.py:1245: UndefinedMetricWarning: Precision is ill-defined and being set to 0.0 in labels with no predicted samples. Use `zero_division` parameter to control this behavior.\n",
      "  _warn_prf(average, modifier, msg_start, len(result))\n",
      "C:\\Users\\Mahsa\\anaconda3\\envs\\tf\\lib\\site-packages\\sklearn\\metrics\\_classification.py:1245: UndefinedMetricWarning: Precision is ill-defined and being set to 0.0 in labels with no predicted samples. Use `zero_division` parameter to control this behavior.\n",
      "  _warn_prf(average, modifier, msg_start, len(result))\n",
      "C:\\Users\\Mahsa\\anaconda3\\envs\\tf\\lib\\site-packages\\sklearn\\metrics\\_classification.py:1245: UndefinedMetricWarning: Precision is ill-defined and being set to 0.0 in labels with no predicted samples. Use `zero_division` parameter to control this behavior.\n",
      "  _warn_prf(average, modifier, msg_start, len(result))\n",
      "C:\\Users\\Mahsa\\anaconda3\\envs\\tf\\lib\\site-packages\\sklearn\\metrics\\_classification.py:1245: UndefinedMetricWarning: Precision is ill-defined and being set to 0.0 in labels with no predicted samples. Use `zero_division` parameter to control this behavior.\n",
      "  _warn_prf(average, modifier, msg_start, len(result))\n",
      "C:\\Users\\Mahsa\\anaconda3\\envs\\tf\\lib\\site-packages\\sklearn\\metrics\\_classification.py:1245: UndefinedMetricWarning: Precision is ill-defined and being set to 0.0 in labels with no predicted samples. Use `zero_division` parameter to control this behavior.\n",
      "  _warn_prf(average, modifier, msg_start, len(result))\n"
     ]
    },
    {
     "name": "stdout",
     "output_type": "stream",
     "text": [
      ">KNN accuracy:0.848 precision: 0.424 recall: 0.500\n"
     ]
    },
    {
     "name": "stderr",
     "output_type": "stream",
     "text": [
      "C:\\Users\\Mahsa\\anaconda3\\envs\\tf\\lib\\site-packages\\sklearn\\metrics\\_classification.py:1245: UndefinedMetricWarning: Precision is ill-defined and being set to 0.0 in labels with no predicted samples. Use `zero_division` parameter to control this behavior.\n",
      "  _warn_prf(average, modifier, msg_start, len(result))\n",
      "C:\\Users\\Mahsa\\anaconda3\\envs\\tf\\lib\\site-packages\\sklearn\\metrics\\_classification.py:1245: UndefinedMetricWarning: Precision is ill-defined and being set to 0.0 in labels with no predicted samples. Use `zero_division` parameter to control this behavior.\n",
      "  _warn_prf(average, modifier, msg_start, len(result))\n",
      "C:\\Users\\Mahsa\\anaconda3\\envs\\tf\\lib\\site-packages\\sklearn\\metrics\\_classification.py:1245: UndefinedMetricWarning: Precision is ill-defined and being set to 0.0 in labels with no predicted samples. Use `zero_division` parameter to control this behavior.\n",
      "  _warn_prf(average, modifier, msg_start, len(result))\n"
     ]
    },
    {
     "name": "stdout",
     "output_type": "stream",
     "text": [
      ">SVM accuracy:0.847 precision: 0.474 recall: 0.500\n",
      ">NB accuracy:0.818 precision: 0.613 recall: 0.581\n"
     ]
    },
    {
     "name": "stderr",
     "output_type": "stream",
     "text": [
      "C:\\Users\\Mahsa\\anaconda3\\envs\\tf\\lib\\site-packages\\sklearn\\metrics\\_classification.py:1245: UndefinedMetricWarning: Precision is ill-defined and being set to 0.0 in labels with no predicted samples. Use `zero_division` parameter to control this behavior.\n",
      "  _warn_prf(average, modifier, msg_start, len(result))\n",
      "C:\\Users\\Mahsa\\anaconda3\\envs\\tf\\lib\\site-packages\\sklearn\\metrics\\_classification.py:1245: UndefinedMetricWarning: Precision is ill-defined and being set to 0.0 in labels with no predicted samples. Use `zero_division` parameter to control this behavior.\n",
      "  _warn_prf(average, modifier, msg_start, len(result))\n",
      "C:\\Users\\Mahsa\\anaconda3\\envs\\tf\\lib\\site-packages\\sklearn\\metrics\\_classification.py:1245: UndefinedMetricWarning: Precision is ill-defined and being set to 0.0 in labels with no predicted samples. Use `zero_division` parameter to control this behavior.\n",
      "  _warn_prf(average, modifier, msg_start, len(result))\n",
      "C:\\Users\\Mahsa\\anaconda3\\envs\\tf\\lib\\site-packages\\sklearn\\metrics\\_classification.py:1245: UndefinedMetricWarning: Precision is ill-defined and being set to 0.0 in labels with no predicted samples. Use `zero_division` parameter to control this behavior.\n",
      "  _warn_prf(average, modifier, msg_start, len(result))\n",
      "C:\\Users\\Mahsa\\anaconda3\\envs\\tf\\lib\\site-packages\\sklearn\\metrics\\_classification.py:1245: UndefinedMetricWarning: Precision is ill-defined and being set to 0.0 in labels with no predicted samples. Use `zero_division` parameter to control this behavior.\n",
      "  _warn_prf(average, modifier, msg_start, len(result))\n"
     ]
    },
    {
     "name": "stdout",
     "output_type": "stream",
     "text": [
      ">hard_voting accuracy:0.848 precision: 0.424 recall: 0.500\n"
     ]
    },
    {
     "name": "stderr",
     "output_type": "stream",
     "text": [
      "C:\\Users\\Mahsa\\anaconda3\\envs\\tf\\lib\\site-packages\\sklearn\\metrics\\_classification.py:1245: UndefinedMetricWarning: Precision is ill-defined and being set to 0.0 in labels with no predicted samples. Use `zero_division` parameter to control this behavior.\n",
      "  _warn_prf(average, modifier, msg_start, len(result))\n",
      "C:\\Users\\Mahsa\\anaconda3\\envs\\tf\\lib\\site-packages\\sklearn\\metrics\\_classification.py:1245: UndefinedMetricWarning: Precision is ill-defined and being set to 0.0 in labels with no predicted samples. Use `zero_division` parameter to control this behavior.\n",
      "  _warn_prf(average, modifier, msg_start, len(result))\n",
      "C:\\Users\\Mahsa\\anaconda3\\envs\\tf\\lib\\site-packages\\sklearn\\metrics\\_classification.py:1245: UndefinedMetricWarning: Precision is ill-defined and being set to 0.0 in labels with no predicted samples. Use `zero_division` parameter to control this behavior.\n",
      "  _warn_prf(average, modifier, msg_start, len(result))\n"
     ]
    },
    {
     "name": "stdout",
     "output_type": "stream",
     "text": [
      ">soft_voting accuracy:0.848 precision: 0.524 recall: 0.501\n",
      "aoc for soft voting model is: 0.727\n"
     ]
    }
   ],
   "source": [
    "# get the dataset\n",
    "def get_dataset():\n",
    "    X=x\n",
    "    y=y \n",
    "    return X, y\n",
    "\n",
    "X_train, X_test, y_train, y_test = train_test_split(X,y, test_size=0.3)\n",
    " \n",
    "# get a voting ensemble of models - hard\n",
    "def get_voting1():\n",
    "    # define the base models\n",
    "    models = list()\n",
    "\n",
    "    models.append(('RF',RandomForestClassifier(n_estimators=100))) \n",
    "    models.append(('MLP',MLPClassifier(solver='adam', learning_rate_init = 0.0005, learning_rate = 'adaptive', activation=\"relu\", max_iter=3000, random_state=10))) \n",
    "#     models.append(('DT',DecisionTreeClassifier())) \n",
    "    models.append(('KNN',KNeighborsClassifier(n_neighbors=100))) \n",
    "    models.append(('SVM',SVC(random_state=1))) \n",
    "#     models.append(('NB',GaussianNB())) \n",
    "    # define the voting ensemble\n",
    "    ensemble = VotingClassifier(estimators=models, voting='hard')\n",
    "\n",
    "    return ensemble\n",
    "\n",
    "def get_voting2():\n",
    "    # define the base models - soft \n",
    "    models = list()\n",
    "\n",
    "    models.append(('RF',RandomForestClassifier(n_estimators=100))) \n",
    "    models.append(('MLP',MLPClassifier(solver='adam', learning_rate_init = 0.0005, learning_rate = 'adaptive', activation=\"relu\", max_iter=3000, random_state=10))) \n",
    "#     models.append(('DT',DecisionTreeClassifier())) \n",
    "    models.append(('KNN',KNeighborsClassifier(n_neighbors=100))) \n",
    "    models.append(('SVM',SVC(random_state=1,probability=True))) \n",
    "#     models.append(('NB',GaussianNB())) \n",
    "    # define the voting ensemble\n",
    "    ensemble = VotingClassifier(estimators=models, voting='soft')\n",
    "\n",
    "    return ensemble\n",
    " \n",
    "# get a list of models to evaluate\n",
    "def get_models():\n",
    "    models = dict()\n",
    "\n",
    "    models['RF']=RandomForestClassifier(n_estimators=100)\n",
    "    models['MLP']=MLPClassifier(solver='adam', learning_rate_init = 0.0005, learning_rate = 'adaptive', activation=\"relu\", max_iter=3000, random_state=10) \n",
    "    models['DT']=DecisionTreeClassifier()\n",
    "    models['KNN']=KNeighborsClassifier(n_neighbors=100)\n",
    "    models['SVM']=SVC(random_state=1)\n",
    "    models['NB']=GaussianNB()\n",
    "    models['hard_voting'] = get_voting1()\n",
    "    models['soft_voting'] = get_voting2()\n",
    "    return models\n",
    " \n",
    "# evaluate a given model using cross-validation\n",
    "def evaluate_model(model, X, y):\n",
    "    scoring = ['precision_macro', 'recall_macro','accuracy']#'accuracy',\n",
    "    cv = RepeatedStratifiedKFold(n_splits=3, n_repeats=3, random_state=1)\n",
    "    scores = cross_validate(model, X, y, scoring=scoring)#, cv=cv, n_jobs=-1, error_score='raise')\n",
    "    return scores\n",
    " \n",
    "\n",
    "models = get_models()\n",
    "# evaluate the models and store results\n",
    "results, names = list(), list()\n",
    "for name, model in models.items():\n",
    "    model.fit(X_train, y_train)\n",
    "    y_pred = model.predict(X_test)\n",
    "    \n",
    "    scores = evaluate_model(model, X, y)\n",
    "    results.append(scores)\n",
    "    names.append(name)\n",
    "    print ('>%s accuracy:%0.3f precision: %.3f recall: %.3f' % (name,mean(scores['test_accuracy']), mean(scores['test_precision_macro']),mean(scores['test_recall_macro'])))\n",
    "    \n",
    "    if name in ('soft_voting'):\n",
    "        probs = model.predict_proba(X_test)\n",
    "        malignant_probs = probs[:,1]\n",
    "        fpr, tpr, thresholds = roc_curve(y_test, malignant_probs)\n",
    "        roc_auc = auc(fpr, tpr)\n",
    "        print('aoc for soft voting model is: %0.3f' % (roc_auc))\n"
   ]
  },
  {
   "cell_type": "code",
   "execution_count": 15,
   "metadata": {},
   "outputs": [
    {
     "name": "stderr",
     "output_type": "stream",
     "text": [
      "C:\\Users\\Mahsa\\anaconda3\\envs\\tf\\lib\\site-packages\\ipykernel\\ipkernel.py:287: DeprecationWarning: `should_run_async` will not call `transform_cell` automatically in the future. Please pass the result to `transformed_cell` argument and any exception that happen during thetransform in `preprocessing_exc_tuple` in IPython 7.17 and above.\n",
      "  and should_run_async(code)\n"
     ]
    },
    {
     "data": {
      "image/png": "[encoded data removed]",
      "text/plain": [
       "<Figure size 432x288 with 1 Axes>"
      ]
     },
     "metadata": {
      "needs_background": "light"
     },
     "output_type": "display_data"
    }
   ],
   "source": [
    "pyplot.title('Soft Ensemble Receiver Operating Characteristic')\n",
    "pyplot.plot(fpr, tpr, 'y', label = 'AUC = %0.2f' % roc_auc)\n",
    "pyplot.legend(loc = 'lower right')\n",
    "pyplot.plot([0, 1], [0, 1],'r--')\n",
    "pyplot.xlim([0, 1])\n",
    "pyplot.ylim([0, 1])\n",
    "pyplot.ylabel('True Positive Rate')\n",
    "pyplot.xlabel('False Positive Rate')\n",
    "pyplot.show()"
   ]
  },
  {
   "cell_type": "markdown",
   "metadata": {},
   "source": [
    "# Cardio data"
   ]
  },
  {
   "cell_type": "code",
   "execution_count": 16,
   "metadata": {},
   "outputs": [
    {
     "name": "stderr",
     "output_type": "stream",
     "text": [
      "C:\\Users\\Mahsa\\anaconda3\\envs\\tf\\lib\\site-packages\\ipykernel\\ipkernel.py:287: DeprecationWarning: `should_run_async` will not call `transform_cell` automatically in the future. Please pass the result to `transformed_cell` argument and any exception that happen during thetransform in `preprocessing_exc_tuple` in IPython 7.17 and above.\n",
      "  and should_run_async(code)\n"
     ]
    }
   ],
   "source": [
    "df3 = pd.read_csv('cardiovascular_clean.csv')\n",
    "\n",
    "X = df3.drop(['chd'], axis=1)  # features\n",
    "y = df3['chd']         #label"
   ]
  },
  {
   "cell_type": "code",
   "execution_count": 17,
   "metadata": {},
   "outputs": [
    {
     "name": "stderr",
     "output_type": "stream",
     "text": [
      "C:\\Users\\Mahsa\\anaconda3\\envs\\tf\\lib\\site-packages\\ipykernel\\ipkernel.py:287: DeprecationWarning: `should_run_async` will not call `transform_cell` automatically in the future. Please pass the result to `transformed_cell` argument and any exception that happen during thetransform in `preprocessing_exc_tuple` in IPython 7.17 and above.\n",
      "  and should_run_async(code)\n"
     ]
    },
    {
     "name": "stdout",
     "output_type": "stream",
     "text": [
      ">RF accuracy:0.690 precision: 0.651 recall: 0.630\n",
      ">MLP accuracy:0.729 precision: 0.702 recall: 0.675\n",
      ">DT accuracy:0.647 precision: 0.614 recall: 0.616\n",
      ">KNN accuracy:0.725 precision: 0.704 recall: 0.649\n",
      ">SVM accuracy:0.729 precision: 0.711 recall: 0.656\n",
      ">NB accuracy:0.712 precision: 0.682 recall: 0.681\n",
      ">hard_voting accuracy:0.727 precision: 0.711 recall: 0.650\n",
      ">soft_voting accuracy:0.723 precision: 0.698 recall: 0.653\n",
      "aoc for soft voting model is: 0.704\n"
     ]
    }
   ],
   "source": [
    "# get the dataset\n",
    "def get_dataset():\n",
    "    X=x\n",
    "    y=y \n",
    "    return X, y\n",
    "\n",
    "X_train, X_test, y_train, y_test = train_test_split(X,y, test_size=0.3)\n",
    " \n",
    "# get a voting ensemble of models - hard\n",
    "def get_voting1():\n",
    "    # define the base models\n",
    "    models = list()\n",
    "\n",
    "    models.append(('RF',RandomForestClassifier(n_estimators=100))) \n",
    "    models.append(('MLP',MLPClassifier(solver='adam', learning_rate_init = 0.0005, learning_rate = 'adaptive', activation=\"relu\", max_iter=3000, random_state=10))) \n",
    "#     models.append(('DT',DecisionTreeClassifier())) \n",
    "    models.append(('KNN',KNeighborsClassifier(n_neighbors=100))) \n",
    "    models.append(('SVM',SVC(random_state=1))) \n",
    "#     models.append(('NB',GaussianNB())) \n",
    "    # define the voting ensemble\n",
    "    ensemble = VotingClassifier(estimators=models, voting='hard')\n",
    "\n",
    "    return ensemble\n",
    "\n",
    "def get_voting2():\n",
    "    # define the base models - soft \n",
    "    models = list()\n",
    "\n",
    "    models.append(('RF',RandomForestClassifier(n_estimators=100))) \n",
    "    models.append(('MLP',MLPClassifier(solver='adam', learning_rate_init = 0.0005, learning_rate = 'adaptive', activation=\"relu\", max_iter=3000, random_state=10))) \n",
    "#     models.append(('DT',DecisionTreeClassifier())) \n",
    "    models.append(('KNN',KNeighborsClassifier(n_neighbors=100))) \n",
    "    models.append(('SVM',SVC(random_state=1,probability=True))) \n",
    "#     models.append(('NB',GaussianNB())) \n",
    "    # define the voting ensemble\n",
    "    ensemble = VotingClassifier(estimators=models, voting='soft')\n",
    "\n",
    "    return ensemble\n",
    " \n",
    "# get a list of models to evaluate\n",
    "def get_models():\n",
    "    models = dict()\n",
    "\n",
    "    models['RF']=RandomForestClassifier(n_estimators=100)\n",
    "    models['MLP']=MLPClassifier(solver='adam', learning_rate_init = 0.0005, learning_rate = 'adaptive', activation=\"relu\", max_iter=3000, random_state=10) \n",
    "    models['DT']=DecisionTreeClassifier()\n",
    "    models['KNN']=KNeighborsClassifier(n_neighbors=100)\n",
    "    models['SVM']=SVC(random_state=1)\n",
    "    models['NB']=GaussianNB()\n",
    "    models['hard_voting'] = get_voting1()\n",
    "    models['soft_voting'] = get_voting2()\n",
    "    return models\n",
    " \n",
    "# evaluate a given model using cross-validation\n",
    "def evaluate_model(model, X, y):\n",
    "    scoring = ['precision_macro', 'recall_macro','accuracy']#'accuracy',\n",
    "    cv = RepeatedStratifiedKFold(n_splits=3, n_repeats=3, random_state=1)\n",
    "    scores = cross_validate(model, X, y, scoring=scoring)#, cv=cv, n_jobs=-1, error_score='raise')\n",
    "    return scores\n",
    " \n",
    "\n",
    "models = get_models()\n",
    "# evaluate the models and store results\n",
    "results, names = list(), list()\n",
    "for name, model in models.items():\n",
    "    model.fit(X_train, y_train)\n",
    "    y_pred = model.predict(X_test)\n",
    "    \n",
    "    scores = evaluate_model(model, X, y)\n",
    "    results.append(scores)\n",
    "    names.append(name)\n",
    "    print ('>%s accuracy:%0.3f precision: %.3f recall: %.3f' % (name,mean(scores['test_accuracy']), mean(scores['test_precision_macro']),mean(scores['test_recall_macro'])))\n",
    "    \n",
    "    if name in ('soft_voting'):\n",
    "        probs = model.predict_proba(X_test)\n",
    "        malignant_probs = probs[:,1]\n",
    "        fpr, tpr, thresholds = roc_curve(y_test, malignant_probs)\n",
    "        roc_auc = auc(fpr, tpr)\n",
    "        print('aoc for soft voting model is: %0.3f' % (roc_auc))\n"
   ]
  },
  {
   "cell_type": "code",
   "execution_count": 18,
   "metadata": {},
   "outputs": [
    {
     "name": "stderr",
     "output_type": "stream",
     "text": [
      "C:\\Users\\Mahsa\\anaconda3\\envs\\tf\\lib\\site-packages\\ipykernel\\ipkernel.py:287: DeprecationWarning: `should_run_async` will not call `transform_cell` automatically in the future. Please pass the result to `transformed_cell` argument and any exception that happen during thetransform in `preprocessing_exc_tuple` in IPython 7.17 and above.\n",
      "  and should_run_async(code)\n"
     ]
    },
    {
     "data": {
      "image/png": "[encoded data removed]",
      "text/plain": [
       "<Figure size 432x288 with 1 Axes>"
      ]
     },
     "metadata": {
      "needs_background": "light"
     },
     "output_type": "display_data"
    }
   ],
   "source": [
    "pyplot.title('Soft Ensemble Receiver Operating Characteristic')\n",
    "pyplot.plot(fpr, tpr, 'y', label = 'AUC = %0.2f' % roc_auc)\n",
    "pyplot.legend(loc = 'lower right')\n",
    "pyplot.plot([0, 1], [0, 1],'r--')\n",
    "pyplot.xlim([0, 1])\n",
    "pyplot.ylim([0, 1])\n",
    "pyplot.ylabel('True Positive Rate')\n",
    "pyplot.xlabel('False Positive Rate')\n",
    "pyplot.show()"
   ]
  },
  {
   "cell_type": "markdown",
   "metadata": {},
   "source": [
    "# Cardio Train"
   ]
  },
  {
   "cell_type": "code",
   "execution_count": 19,
   "metadata": {},
   "outputs": [
    {
     "name": "stderr",
     "output_type": "stream",
     "text": [
      "C:\\Users\\Mahsa\\anaconda3\\envs\\tf\\lib\\site-packages\\ipykernel\\ipkernel.py:287: DeprecationWarning: `should_run_async` will not call `transform_cell` automatically in the future. Please pass the result to `transformed_cell` argument and any exception that happen during thetransform in `preprocessing_exc_tuple` in IPython 7.17 and above.\n",
      "  and should_run_async(code)\n"
     ]
    }
   ],
   "source": [
    "df4 = pd.read_csv('cardio_train1_clean.csv')\n",
    "\n",
    "# Separate the target from the data set\n",
    "X = df4.drop(['cardio'], axis=1)\n",
    "y = df4['cardio']"
   ]
  },
  {
   "cell_type": "code",
   "execution_count": 20,
   "metadata": {},
   "outputs": [
    {
     "name": "stderr",
     "output_type": "stream",
     "text": [
      "C:\\Users\\Mahsa\\anaconda3\\envs\\tf\\lib\\site-packages\\ipykernel\\ipkernel.py:287: DeprecationWarning: `should_run_async` will not call `transform_cell` automatically in the future. Please pass the result to `transformed_cell` argument and any exception that happen during thetransform in `preprocessing_exc_tuple` in IPython 7.17 and above.\n",
      "  and should_run_async(code)\n"
     ]
    },
    {
     "name": "stdout",
     "output_type": "stream",
     "text": [
      ">RF accuracy:0.715 precision: 0.716 recall: 0.715\n",
      ">MLP accuracy:0.673 precision: 0.706 recall: 0.673\n",
      ">DT accuracy:0.633 precision: 0.633 recall: 0.633\n",
      ">KNN accuracy:0.703 precision: 0.709 recall: 0.703\n",
      ">SVM accuracy:0.604 precision: 0.605 recall: 0.604\n",
      ">NB accuracy:0.592 precision: 0.644 recall: 0.592\n",
      ">hard_voting accuracy:0.700 precision: 0.711 recall: 0.700\n",
      ">soft_voting accuracy:0.714 precision: 0.723 recall: 0.714\n",
      "aoc for soft voting model is: 0.788\n"
     ]
    }
   ],
   "source": [
    "# get the dataset\n",
    "def get_dataset():\n",
    "    X=x\n",
    "    y=y \n",
    "    return X, y\n",
    "\n",
    "X_train, X_test, y_train, y_test = train_test_split(X,y, test_size=0.3)\n",
    " \n",
    "# get a voting ensemble of models - hard\n",
    "def get_voting1():\n",
    "    # define the base models\n",
    "    models = list()\n",
    "\n",
    "    models.append(('RF',RandomForestClassifier(n_estimators=100))) \n",
    "    models.append(('MLP',MLPClassifier(solver='adam', learning_rate_init = 0.0005, learning_rate = 'adaptive', activation=\"relu\", max_iter=3000, random_state=10))) \n",
    "#     models.append(('DT',DecisionTreeClassifier())) \n",
    "    models.append(('KNN',KNeighborsClassifier(n_neighbors=100))) \n",
    "    models.append(('SVM',SVC(random_state=1))) \n",
    "#     models.append(('NB',GaussianNB())) \n",
    "    # define the voting ensemble\n",
    "    ensemble = VotingClassifier(estimators=models, voting='hard')\n",
    "\n",
    "    return ensemble\n",
    "\n",
    "def get_voting2():\n",
    "    # define the base models - soft \n",
    "    models = list()\n",
    "\n",
    "    models.append(('RF',RandomForestClassifier(n_estimators=100))) \n",
    "    models.append(('MLP',MLPClassifier(solver='adam', learning_rate_init = 0.0005, learning_rate = 'adaptive', activation=\"relu\", max_iter=3000, random_state=10))) \n",
    "#     models.append(('DT',DecisionTreeClassifier())) \n",
    "    models.append(('KNN',KNeighborsClassifier(n_neighbors=100))) \n",
    "    models.append(('SVM',SVC(random_state=1,probability=True))) \n",
    "#     models.append(('NB',GaussianNB())) \n",
    "    # define the voting ensemble\n",
    "    ensemble = VotingClassifier(estimators=models, voting='soft')\n",
    "\n",
    "    return ensemble\n",
    " \n",
    "# get a list of models to evaluate\n",
    "def get_models():\n",
    "    models = dict()\n",
    "\n",
    "    models['RF']=RandomForestClassifier(n_estimators=100)\n",
    "    models['MLP']=MLPClassifier(solver='adam', learning_rate_init = 0.0005, learning_rate = 'adaptive', activation=\"relu\", max_iter=3000, random_state=10) \n",
    "    models['DT']=DecisionTreeClassifier()\n",
    "    models['KNN']=KNeighborsClassifier(n_neighbors=100)\n",
    "    models['SVM']=SVC(random_state=1)\n",
    "    models['NB']=GaussianNB()\n",
    "    models['hard_voting'] = get_voting1()\n",
    "    models['soft_voting'] = get_voting2()\n",
    "    return models\n",
    " \n",
    "# evaluate a given model using cross-validation\n",
    "def evaluate_model(model, X, y):\n",
    "    scoring = ['precision_macro', 'recall_macro','accuracy']#'accuracy',\n",
    "    cv = RepeatedStratifiedKFold(n_splits=3, n_repeats=3, random_state=1)\n",
    "    scores = cross_validate(model, X, y, scoring=scoring)#, cv=cv, n_jobs=-1, error_score='raise')\n",
    "    return scores\n",
    " \n",
    "\n",
    "models = get_models()\n",
    "# evaluate the models and store results\n",
    "results, names = list(), list()\n",
    "for name, model in models.items():\n",
    "    model.fit(X_train, y_train)\n",
    "    y_pred = model.predict(X_test)\n",
    "    \n",
    "    scores = evaluate_model(model, X, y)\n",
    "    results.append(scores)\n",
    "    names.append(name)\n",
    "    print ('>%s accuracy:%0.3f precision: %.3f recall: %.3f' % (name,mean(scores['test_accuracy']), mean(scores['test_precision_macro']),mean(scores['test_recall_macro'])))\n",
    "    \n",
    "    if name in ('soft_voting'):\n",
    "        probs = model.predict_proba(X_test)\n",
    "        malignant_probs = probs[:,1]\n",
    "        fpr, tpr, thresholds = roc_curve(y_test, malignant_probs)\n",
    "        roc_auc = auc(fpr, tpr)\n",
    "        print('aoc for soft voting model is: %0.3f' % (roc_auc))\n"
   ]
  },
  {
   "cell_type": "code",
   "execution_count": 21,
   "metadata": {},
   "outputs": [
    {
     "name": "stderr",
     "output_type": "stream",
     "text": [
      "C:\\Users\\Mahsa\\anaconda3\\envs\\tf\\lib\\site-packages\\ipykernel\\ipkernel.py:287: DeprecationWarning: `should_run_async` will not call `transform_cell` automatically in the future. Please pass the result to `transformed_cell` argument and any exception that happen during thetransform in `preprocessing_exc_tuple` in IPython 7.17 and above.\n",
      "  and should_run_async(code)\n"
     ]
    },
    {
     "data": {
      "image/png": "[encoded data removed]",
      "text/plain": [
       "<Figure size 432x288 with 1 Axes>"
      ]
     },
     "metadata": {
      "needs_background": "light"
     },
     "output_type": "display_data"
    }
   ],
   "source": [
    "pyplot.title('Soft Ensemble Receiver Operating Characteristic')\n",
    "pyplot.plot(fpr, tpr, 'y', label = 'AUC = %0.2f' % roc_auc)\n",
    "pyplot.legend(loc = 'lower right')\n",
    "pyplot.plot([0, 1], [0, 1],'r--')\n",
    "pyplot.xlim([0, 1])\n",
    "pyplot.ylim([0, 1])\n",
    "pyplot.ylabel('True Positive Rate')\n",
    "pyplot.xlabel('False Positive Rate')\n",
    "pyplot.show()"
   ]
  },
  {
   "cell_type": "code",
   "execution_count": null,
   "metadata": {},
   "outputs": [],
   "source": []
  }
 ],
 "metadata": {
  "kernelspec": {
   "display_name": "Python 3",
   "language": "python",
   "name": "python3"
  },
  "language_info": {
   "codemirror_mode": {
    "name": "ipython",
    "version": 3
   },
   "file_extension": ".py",
   "mimetype": "text/x-python",
   "name": "python",
   "nbconvert_exporter": "python",
   "pygments_lexer": "ipython3",
   "version": "3.8.5"
  }
 },
 "nbformat": 4,
 "nbformat_minor": 4
}
